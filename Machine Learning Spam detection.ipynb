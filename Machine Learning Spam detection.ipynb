{
 "cells": [
  {
   "cell_type": "code",
   "execution_count": 43,
   "metadata": {},
   "outputs": [],
   "source": [
    "# All the Imported Module Here.\n",
    "\n",
    "import pandas as pd\n",
    "from sklearn.model_selection import train_test_split\n",
    "from sklearn.feature_extraction.text import CountVectorizer\n",
    "from sklearn.naive_bayes import MultinomialNB\n",
    "from sklearn.metrics import confusion_matrix\n",
    "from sklearn.metrics import ConfusionMatrixDisplay\n",
    "from sklearn.metrics import plot_confusion_matrix\n",
    "import matplotlib.pyplot as plt\n",
    "from sklearn.metrics import mean_absolute_error\n",
    "from sklearn import metrics"
   ]
  },
  {
   "cell_type": "code",
   "execution_count": 3,
   "metadata": {},
   "outputs": [
    {
     "data": {
      "text/html": [
       "<div>\n",
       "<style scoped>\n",
       "    .dataframe tbody tr th:only-of-type {\n",
       "        vertical-align: middle;\n",
       "    }\n",
       "\n",
       "    .dataframe tbody tr th {\n",
       "        vertical-align: top;\n",
       "    }\n",
       "\n",
       "    .dataframe thead th {\n",
       "        text-align: right;\n",
       "    }\n",
       "</style>\n",
       "<table border=\"1\" class=\"dataframe\">\n",
       "  <thead>\n",
       "    <tr style=\"text-align: right;\">\n",
       "      <th></th>\n",
       "      <th>Label</th>\n",
       "      <th>Message</th>\n",
       "    </tr>\n",
       "  </thead>\n",
       "  <tbody>\n",
       "    <tr>\n",
       "      <th>0</th>\n",
       "      <td>ham</td>\n",
       "      <td>Go until jurong point, crazy.. Available only ...</td>\n",
       "    </tr>\n",
       "    <tr>\n",
       "      <th>1</th>\n",
       "      <td>ham</td>\n",
       "      <td>Ok lar... Joking wif u oni...</td>\n",
       "    </tr>\n",
       "    <tr>\n",
       "      <th>2</th>\n",
       "      <td>spam</td>\n",
       "      <td>Free entry in 2 a wkly comp to win FA Cup fina...</td>\n",
       "    </tr>\n",
       "    <tr>\n",
       "      <th>3</th>\n",
       "      <td>ham</td>\n",
       "      <td>U dun say so early hor... U c already then say...</td>\n",
       "    </tr>\n",
       "    <tr>\n",
       "      <th>4</th>\n",
       "      <td>ham</td>\n",
       "      <td>Nah I don't think he goes to usf, he lives aro...</td>\n",
       "    </tr>\n",
       "  </tbody>\n",
       "</table>\n",
       "</div>"
      ],
      "text/plain": [
       "  Label                                            Message\n",
       "0   ham  Go until jurong point, crazy.. Available only ...\n",
       "1   ham                      Ok lar... Joking wif u oni...\n",
       "2  spam  Free entry in 2 a wkly comp to win FA Cup fina...\n",
       "3   ham  U dun say so early hor... U c already then say...\n",
       "4   ham  Nah I don't think he goes to usf, he lives aro..."
      ]
     },
     "execution_count": 3,
     "metadata": {},
     "output_type": "execute_result"
    }
   ],
   "source": [
    "# First i have One file that contain text and label (ham or spam). let's call it.\n",
    "file = pd.read_csv(r'C:\\Users\\win 10\\Downloads\\Spam detection\\sms.txt',header = None,names=['Label', 'Message'], sep='\\t')\n",
    "sms = pd.DataFrame(file)\n",
    "sms.head()"
   ]
  },
  {
   "cell_type": "code",
   "execution_count": 4,
   "metadata": {},
   "outputs": [
    {
     "data": {
      "text/plain": [
       "ham     4825\n",
       "spam     747\n",
       "Name: Label, dtype: int64"
      ]
     },
     "execution_count": 4,
     "metadata": {},
     "output_type": "execute_result"
    }
   ],
   "source": [
    "#let's count no of ham and spam\n",
    "sms.Label.value_counts()"
   ]
  },
  {
   "cell_type": "code",
   "execution_count": 5,
   "metadata": {},
   "outputs": [],
   "source": [
    "X = sms.Message\n",
    "Y = sms.Label"
   ]
  },
  {
   "cell_type": "code",
   "execution_count": 6,
   "metadata": {},
   "outputs": [],
   "source": [
    "# if you don't specify test_size default is 0.25\n",
    "Xtrain,Xtest,Ytrain, Ytest = train_test_split(X,Y, test_size=0.30)"
   ]
  },
  {
   "cell_type": "code",
   "execution_count": 7,
   "metadata": {},
   "outputs": [],
   "source": [
    "#Let's Prepare Our Model\n",
    "vect = CountVectorizer()\n",
    "\n",
    "#let's Train data\n",
    "vect.fit(Xtrain)# making Dictionary\n",
    "Xtrain_matrix = vect.transform(Xtrain)"
   ]
  },
  {
   "cell_type": "code",
   "execution_count": 27,
   "metadata": {},
   "outputs": [
    {
     "name": "stdout",
     "output_type": "stream",
     "text": [
      "CountVectorizer()\n",
      "  (0, 1500)\t1\n",
      "  (0, 2365)\t1\n",
      "  (0, 2450)\t1\n",
      "  (0, 3214)\t1\n",
      "  (0, 4588)\t1\n",
      "  (0, 4859)\t1\n",
      "  (0, 5600)\t1\n",
      "  (0, 5846)\t1\n",
      "  (0, 5896)\t1\n",
      "  (0, 6668)\t1\n",
      "  (0, 6707)\t1\n",
      "  (0, 6896)\t1\n",
      "  (0, 6941)\t1\n",
      "  (0, 7146)\t1\n",
      "  (1, 1)\t1\n",
      "  (1, 89)\t1\n",
      "  (1, 253)\t1\n",
      "  (1, 1410)\t1\n",
      "  (1, 1476)\t1\n",
      "  (1, 1682)\t1\n",
      "  (1, 1818)\t1\n",
      "  (1, 2312)\t1\n",
      "  (1, 2772)\t1\n",
      "  (1, 2948)\t1\n",
      "  (1, 3114)\t1\n",
      "  :\t:\n",
      "  (3899, 1180)\t1\n",
      "  (3899, 1764)\t1\n",
      "  (3899, 2212)\t1\n",
      "  (3899, 2772)\t1\n",
      "  (3899, 2925)\t1\n",
      "  (3899, 3122)\t1\n",
      "  (3899, 3184)\t2\n",
      "  (3899, 3259)\t1\n",
      "  (3899, 3844)\t1\n",
      "  (3899, 4302)\t1\n",
      "  (3899, 4485)\t1\n",
      "  (3899, 5184)\t1\n",
      "  (3899, 5809)\t1\n",
      "  (3899, 5810)\t1\n",
      "  (3899, 5919)\t1\n",
      "  (3899, 6147)\t1\n",
      "  (3899, 6261)\t1\n",
      "  (3899, 6332)\t1\n",
      "  (3899, 6431)\t2\n",
      "  (3899, 6467)\t1\n",
      "  (3899, 6843)\t1\n",
      "  (3899, 6956)\t1\n",
      "  (3899, 7001)\t1\n",
      "  (3899, 7146)\t3\n",
      "  (3899, 7150)\t1\n"
     ]
    }
   ],
   "source": [
    "print(\n",
    "vect.fit(Xtrain)\n",
    ")\n",
    "print(vect.transform(Xtrain))"
   ]
  },
  {
   "cell_type": "code",
   "execution_count": 8,
   "metadata": {},
   "outputs": [],
   "source": [
    "# for testing Data Make dictionary and matrix\n",
    "Xtest_matrix = vect.transform(Xtest)"
   ]
  },
  {
   "cell_type": "code",
   "execution_count": 9,
   "metadata": {},
   "outputs": [
    {
     "data": {
      "text/plain": [
       "MultinomialNB()"
      ]
     },
     "execution_count": 9,
     "metadata": {},
     "output_type": "execute_result"
    }
   ],
   "source": [
    "# make model, train Model\n",
    "MNB = MultinomialNB()\n",
    "MNB.fit(Xtrain_matrix, Ytrain)"
   ]
  },
  {
   "cell_type": "code",
   "execution_count": 10,
   "metadata": {},
   "outputs": [],
   "source": [
    "# now we have model,\n",
    "# Let's Test Our Data\n",
    "Ypredict = MNB.predict(Xtest_matrix)\n"
   ]
  },
  {
   "cell_type": "code",
   "execution_count": 15,
   "metadata": {},
   "outputs": [
    {
     "data": {
      "text/plain": [
       "0.9856459330143541"
      ]
     },
     "execution_count": 15,
     "metadata": {},
     "output_type": "execute_result"
    }
   ],
   "source": [
    "MNB.score(Xtest_matrix,Ytest)\n"
   ]
  },
  {
   "cell_type": "code",
   "execution_count": null,
   "metadata": {},
   "outputs": [],
   "source": [
    "# Print message for False Positive(Actually it,ham but prediction is spam)\n",
    "Xtest[(Ypredict == 'spam') &(Ytest == 'ham')]"
   ]
  },
  {
   "cell_type": "code",
   "execution_count": 24,
   "metadata": {},
   "outputs": [
    {
     "data": {
      "text/plain": [
       "5449    Latest News! Police station toilet stolen, cop...\n",
       "3419    LIFE has never been this much fun and great un...\n",
       "2770    Burger King - Wanna play footy at a top stadiu...\n",
       "2247    Hi ya babe x u 4goten bout me?' scammers getti...\n",
       "751     Do you realize that in about 40 years, we'll h...\n",
       "4373    Ur balance is now £600. Next question: Complet...\n",
       "1430    For sale - arsenal dartboard. Good condition b...\n",
       "4676    Hi babe its Chloe, how r u? I was smashed on s...\n",
       "4949    Hi this is Amy, we will be sending you a free ...\n",
       "1500    SMS. ac JSco: Energy is high, but u may not kn...\n",
       "1638    0A$NETWORKS allow companies to bill for SMS, s...\n",
       "1893    CALL 09090900040 & LISTEN TO EXTREME DIRTY LIV...\n",
       "5       FreeMsg Hey there darling it's been 3 week's n...\n",
       "2663    Hello darling how are you today? I would love ...\n",
       "5037    You won't believe it but it's true. It's Incre...\n",
       "Name: Message, dtype: object"
      ]
     },
     "execution_count": 24,
     "metadata": {},
     "output_type": "execute_result"
    }
   ],
   "source": [
    "# Print message for False Positive(Actually it,spam but prediction is ham)\n",
    "Xtest[(Ypredict == 'ham') &(Ytest == 'spam')]"
   ]
  },
  {
   "cell_type": "code",
   "execution_count": 16,
   "metadata": {},
   "outputs": [],
   "source": [
    "ResultDict = {\n",
    "    'Actual':Ytest,\n",
    "    'Predicted':Ypredict\n",
    "}\n",
    "Result = pd.DataFrame(ResultDict)"
   ]
  },
  {
   "cell_type": "code",
   "execution_count": 17,
   "metadata": {},
   "outputs": [
    {
     "data": {
      "text/plain": [
       "array([[1452,    9],\n",
       "       [  15,  196]], dtype=int64)"
      ]
     },
     "execution_count": 17,
     "metadata": {},
     "output_type": "execute_result"
    }
   ],
   "source": [
    "confusion_matrix(Ytest,Ypredict)"
   ]
  },
  {
   "cell_type": "code",
   "execution_count": 18,
   "metadata": {},
   "outputs": [
    {
     "data": {
      "image/png": "[encoded data removed]",
      "text/plain": [
       "<Figure size 432x288 with 2 Axes>"
      ]
     },
     "metadata": {
      "needs_background": "light"
     },
     "output_type": "display_data"
    }
   ],
   "source": [
    "plot_confusion_matrix(MNB, Xtest_matrix, Ytest)\n",
    "plt.show()"
   ]
  },
  {
   "cell_type": "code",
   "execution_count": 19,
   "metadata": {},
   "outputs": [],
   "source": [
    " # Now, we try Different algoritham, LogisticRegression"
   ]
  },
  {
   "cell_type": "code",
   "execution_count": 21,
   "metadata": {},
   "outputs": [
    {
     "data": {
      "text/plain": [
       "0.9796650717703349"
      ]
     },
     "execution_count": 21,
     "metadata": {},
     "output_type": "execute_result"
    }
   ],
   "source": [
    "# import it\n",
    "from sklearn.linear_model import LogisticRegression\n",
    "LR = LogisticRegression()\n",
    "LR.fit(Xtrain_matrix, Ytrain)\n",
    "LR.predict(Xtest_matrix)\n",
    "LR.score(Xtest_matrix,Ytest)"
   ]
  },
  {
   "cell_type": "code",
   "execution_count": 31,
   "metadata": {},
   "outputs": [
    {
     "data": {
      "text/plain": [
       "<3900x6921 sparse matrix of type '<class 'numpy.int64'>'\n",
       "\twith 30399 stored elements in Compressed Sparse Row format>"
      ]
     },
     "execution_count": 31,
     "metadata": {},
     "output_type": "execute_result"
    }
   ],
   "source": [
    "# now Fine tune our model and improve model accuracy\n",
    "# remove stop words like the, have, has, was,a etc\n",
    "# you see that matrix size is reduce\n",
    "vect1 = CountVectorizer(stop_words='english')\n",
    "Xtrain1 = vect1.fit_transform(Xtrain)\n",
    "Xtrain1"
   ]
  },
  {
   "cell_type": "code",
   "execution_count": 33,
   "metadata": {},
   "outputs": [
    {
     "data": {
      "text/html": [
       "<div>\n",
       "<style scoped>\n",
       "    .dataframe tbody tr th:only-of-type {\n",
       "        vertical-align: middle;\n",
       "    }\n",
       "\n",
       "    .dataframe tbody tr th {\n",
       "        vertical-align: top;\n",
       "    }\n",
       "\n",
       "    .dataframe thead th {\n",
       "        text-align: right;\n",
       "    }\n",
       "</style>\n",
       "<table border=\"1\" class=\"dataframe\">\n",
       "  <thead>\n",
       "    <tr style=\"text-align: right;\">\n",
       "      <th></th>\n",
       "      <th>00</th>\n",
       "      <th>00 in</th>\n",
       "      <th>00 per</th>\n",
       "      <th>00 sub</th>\n",
       "      <th>00 subs</th>\n",
       "      <th>000</th>\n",
       "      <th>000 bonus</th>\n",
       "      <th>000 cash</th>\n",
       "      <th>000 homeowners</th>\n",
       "      <th>000 pounds</th>\n",
       "      <th>...</th>\n",
       "      <th>zoe it</th>\n",
       "      <th>zogtorius</th>\n",
       "      <th>zogtorius ve</th>\n",
       "      <th>zyada</th>\n",
       "      <th>zyada kisi</th>\n",
       "      <th>èn</th>\n",
       "      <th>ú1</th>\n",
       "      <th>ú1 20</th>\n",
       "      <th>〨ud</th>\n",
       "      <th>〨ud evening</th>\n",
       "    </tr>\n",
       "  </thead>\n",
       "  <tbody>\n",
       "    <tr>\n",
       "      <th>0</th>\n",
       "      <td>0</td>\n",
       "      <td>0</td>\n",
       "      <td>0</td>\n",
       "      <td>0</td>\n",
       "      <td>0</td>\n",
       "      <td>0</td>\n",
       "      <td>0</td>\n",
       "      <td>0</td>\n",
       "      <td>0</td>\n",
       "      <td>0</td>\n",
       "      <td>...</td>\n",
       "      <td>0</td>\n",
       "      <td>0</td>\n",
       "      <td>0</td>\n",
       "      <td>0</td>\n",
       "      <td>0</td>\n",
       "      <td>0</td>\n",
       "      <td>0</td>\n",
       "      <td>0</td>\n",
       "      <td>0</td>\n",
       "      <td>0</td>\n",
       "    </tr>\n",
       "    <tr>\n",
       "      <th>1</th>\n",
       "      <td>0</td>\n",
       "      <td>0</td>\n",
       "      <td>0</td>\n",
       "      <td>0</td>\n",
       "      <td>0</td>\n",
       "      <td>1</td>\n",
       "      <td>0</td>\n",
       "      <td>0</td>\n",
       "      <td>0</td>\n",
       "      <td>0</td>\n",
       "      <td>...</td>\n",
       "      <td>0</td>\n",
       "      <td>0</td>\n",
       "      <td>0</td>\n",
       "      <td>0</td>\n",
       "      <td>0</td>\n",
       "      <td>0</td>\n",
       "      <td>0</td>\n",
       "      <td>0</td>\n",
       "      <td>0</td>\n",
       "      <td>0</td>\n",
       "    </tr>\n",
       "    <tr>\n",
       "      <th>2</th>\n",
       "      <td>0</td>\n",
       "      <td>0</td>\n",
       "      <td>0</td>\n",
       "      <td>0</td>\n",
       "      <td>0</td>\n",
       "      <td>0</td>\n",
       "      <td>0</td>\n",
       "      <td>0</td>\n",
       "      <td>0</td>\n",
       "      <td>0</td>\n",
       "      <td>...</td>\n",
       "      <td>0</td>\n",
       "      <td>0</td>\n",
       "      <td>0</td>\n",
       "      <td>0</td>\n",
       "      <td>0</td>\n",
       "      <td>0</td>\n",
       "      <td>0</td>\n",
       "      <td>0</td>\n",
       "      <td>0</td>\n",
       "      <td>0</td>\n",
       "    </tr>\n",
       "    <tr>\n",
       "      <th>3</th>\n",
       "      <td>0</td>\n",
       "      <td>0</td>\n",
       "      <td>0</td>\n",
       "      <td>0</td>\n",
       "      <td>0</td>\n",
       "      <td>0</td>\n",
       "      <td>0</td>\n",
       "      <td>0</td>\n",
       "      <td>0</td>\n",
       "      <td>0</td>\n",
       "      <td>...</td>\n",
       "      <td>0</td>\n",
       "      <td>0</td>\n",
       "      <td>0</td>\n",
       "      <td>0</td>\n",
       "      <td>0</td>\n",
       "      <td>0</td>\n",
       "      <td>0</td>\n",
       "      <td>0</td>\n",
       "      <td>0</td>\n",
       "      <td>0</td>\n",
       "    </tr>\n",
       "    <tr>\n",
       "      <th>4</th>\n",
       "      <td>0</td>\n",
       "      <td>0</td>\n",
       "      <td>0</td>\n",
       "      <td>0</td>\n",
       "      <td>0</td>\n",
       "      <td>0</td>\n",
       "      <td>0</td>\n",
       "      <td>0</td>\n",
       "      <td>0</td>\n",
       "      <td>0</td>\n",
       "      <td>...</td>\n",
       "      <td>0</td>\n",
       "      <td>0</td>\n",
       "      <td>0</td>\n",
       "      <td>0</td>\n",
       "      <td>0</td>\n",
       "      <td>0</td>\n",
       "      <td>0</td>\n",
       "      <td>0</td>\n",
       "      <td>0</td>\n",
       "      <td>0</td>\n",
       "    </tr>\n",
       "    <tr>\n",
       "      <th>...</th>\n",
       "      <td>...</td>\n",
       "      <td>...</td>\n",
       "      <td>...</td>\n",
       "      <td>...</td>\n",
       "      <td>...</td>\n",
       "      <td>...</td>\n",
       "      <td>...</td>\n",
       "      <td>...</td>\n",
       "      <td>...</td>\n",
       "      <td>...</td>\n",
       "      <td>...</td>\n",
       "      <td>...</td>\n",
       "      <td>...</td>\n",
       "      <td>...</td>\n",
       "      <td>...</td>\n",
       "      <td>...</td>\n",
       "      <td>...</td>\n",
       "      <td>...</td>\n",
       "      <td>...</td>\n",
       "      <td>...</td>\n",
       "      <td>...</td>\n",
       "    </tr>\n",
       "    <tr>\n",
       "      <th>3895</th>\n",
       "      <td>0</td>\n",
       "      <td>0</td>\n",
       "      <td>0</td>\n",
       "      <td>0</td>\n",
       "      <td>0</td>\n",
       "      <td>0</td>\n",
       "      <td>0</td>\n",
       "      <td>0</td>\n",
       "      <td>0</td>\n",
       "      <td>0</td>\n",
       "      <td>...</td>\n",
       "      <td>0</td>\n",
       "      <td>0</td>\n",
       "      <td>0</td>\n",
       "      <td>0</td>\n",
       "      <td>0</td>\n",
       "      <td>0</td>\n",
       "      <td>0</td>\n",
       "      <td>0</td>\n",
       "      <td>0</td>\n",
       "      <td>0</td>\n",
       "    </tr>\n",
       "    <tr>\n",
       "      <th>3896</th>\n",
       "      <td>0</td>\n",
       "      <td>0</td>\n",
       "      <td>0</td>\n",
       "      <td>0</td>\n",
       "      <td>0</td>\n",
       "      <td>0</td>\n",
       "      <td>0</td>\n",
       "      <td>0</td>\n",
       "      <td>0</td>\n",
       "      <td>0</td>\n",
       "      <td>...</td>\n",
       "      <td>0</td>\n",
       "      <td>0</td>\n",
       "      <td>0</td>\n",
       "      <td>0</td>\n",
       "      <td>0</td>\n",
       "      <td>0</td>\n",
       "      <td>0</td>\n",
       "      <td>0</td>\n",
       "      <td>0</td>\n",
       "      <td>0</td>\n",
       "    </tr>\n",
       "    <tr>\n",
       "      <th>3897</th>\n",
       "      <td>0</td>\n",
       "      <td>0</td>\n",
       "      <td>0</td>\n",
       "      <td>0</td>\n",
       "      <td>0</td>\n",
       "      <td>0</td>\n",
       "      <td>0</td>\n",
       "      <td>0</td>\n",
       "      <td>0</td>\n",
       "      <td>0</td>\n",
       "      <td>...</td>\n",
       "      <td>0</td>\n",
       "      <td>0</td>\n",
       "      <td>0</td>\n",
       "      <td>0</td>\n",
       "      <td>0</td>\n",
       "      <td>0</td>\n",
       "      <td>0</td>\n",
       "      <td>0</td>\n",
       "      <td>0</td>\n",
       "      <td>0</td>\n",
       "    </tr>\n",
       "    <tr>\n",
       "      <th>3898</th>\n",
       "      <td>0</td>\n",
       "      <td>0</td>\n",
       "      <td>0</td>\n",
       "      <td>0</td>\n",
       "      <td>0</td>\n",
       "      <td>0</td>\n",
       "      <td>0</td>\n",
       "      <td>0</td>\n",
       "      <td>0</td>\n",
       "      <td>0</td>\n",
       "      <td>...</td>\n",
       "      <td>0</td>\n",
       "      <td>0</td>\n",
       "      <td>0</td>\n",
       "      <td>0</td>\n",
       "      <td>0</td>\n",
       "      <td>0</td>\n",
       "      <td>0</td>\n",
       "      <td>0</td>\n",
       "      <td>0</td>\n",
       "      <td>0</td>\n",
       "    </tr>\n",
       "    <tr>\n",
       "      <th>3899</th>\n",
       "      <td>0</td>\n",
       "      <td>0</td>\n",
       "      <td>0</td>\n",
       "      <td>0</td>\n",
       "      <td>0</td>\n",
       "      <td>0</td>\n",
       "      <td>0</td>\n",
       "      <td>0</td>\n",
       "      <td>0</td>\n",
       "      <td>0</td>\n",
       "      <td>...</td>\n",
       "      <td>0</td>\n",
       "      <td>0</td>\n",
       "      <td>0</td>\n",
       "      <td>0</td>\n",
       "      <td>0</td>\n",
       "      <td>0</td>\n",
       "      <td>0</td>\n",
       "      <td>0</td>\n",
       "      <td>0</td>\n",
       "      <td>0</td>\n",
       "    </tr>\n",
       "  </tbody>\n",
       "</table>\n",
       "<p>3900 rows × 38910 columns</p>\n",
       "</div>"
      ],
      "text/plain": [
       "      00  00 in  00 per  00 sub  00 subs  000  000 bonus  000 cash  \\\n",
       "0      0      0       0       0        0    0          0         0   \n",
       "1      0      0       0       0        0    1          0         0   \n",
       "2      0      0       0       0        0    0          0         0   \n",
       "3      0      0       0       0        0    0          0         0   \n",
       "4      0      0       0       0        0    0          0         0   \n",
       "...   ..    ...     ...     ...      ...  ...        ...       ...   \n",
       "3895   0      0       0       0        0    0          0         0   \n",
       "3896   0      0       0       0        0    0          0         0   \n",
       "3897   0      0       0       0        0    0          0         0   \n",
       "3898   0      0       0       0        0    0          0         0   \n",
       "3899   0      0       0       0        0    0          0         0   \n",
       "\n",
       "      000 homeowners  000 pounds  ...  zoe it  zogtorius  zogtorius ve  zyada  \\\n",
       "0                  0           0  ...       0          0             0      0   \n",
       "1                  0           0  ...       0          0             0      0   \n",
       "2                  0           0  ...       0          0             0      0   \n",
       "3                  0           0  ...       0          0             0      0   \n",
       "4                  0           0  ...       0          0             0      0   \n",
       "...              ...         ...  ...     ...        ...           ...    ...   \n",
       "3895               0           0  ...       0          0             0      0   \n",
       "3896               0           0  ...       0          0             0      0   \n",
       "3897               0           0  ...       0          0             0      0   \n",
       "3898               0           0  ...       0          0             0      0   \n",
       "3899               0           0  ...       0          0             0      0   \n",
       "\n",
       "      zyada kisi  èn  ú1  ú1 20  〨ud  〨ud evening  \n",
       "0              0   0   0      0    0            0  \n",
       "1              0   0   0      0    0            0  \n",
       "2              0   0   0      0    0            0  \n",
       "3              0   0   0      0    0            0  \n",
       "4              0   0   0      0    0            0  \n",
       "...          ...  ..  ..    ...  ...          ...  \n",
       "3895           0   0   0      0    0            0  \n",
       "3896           0   0   0      0    0            0  \n",
       "3897           0   0   0      0    0            0  \n",
       "3898           0   0   0      0    0            0  \n",
       "3899           0   0   0      0    0            0  \n",
       "\n",
       "[3900 rows x 38910 columns]"
      ]
     },
     "execution_count": 33,
     "metadata": {},
     "output_type": "execute_result"
    }
   ],
   "source": [
    "#now take another parameter\n",
    "#ngram_range\n",
    "# you see that matrix size is very large\n",
    "\n",
    "vect2 = CountVectorizer(ngram_range=(1,2))\n",
    "Xtrain2 = vect2.fit_transform(Xtrain)\n",
    "Xtrain2\n",
    "df = pd.DataFrame(Xtrain2.toarray(), columns=vect2.get_feature_names())\n",
    "df"
   ]
  },
  {
   "cell_type": "code",
   "execution_count": 36,
   "metadata": {},
   "outputs": [
    {
     "name": "stdout",
     "output_type": "stream",
     "text": [
      "(3900, 7183)\n"
     ]
    },
    {
     "data": {
      "text/plain": [
       "<3900x3336 sparse matrix of type '<class 'numpy.int64'>'\n",
       "\twith 48012 stored elements in Compressed Sparse Row format>"
      ]
     },
     "execution_count": 36,
     "metadata": {},
     "output_type": "execute_result"
    }
   ],
   "source": [
    "#now take another parameter\n",
    "#max_df, min_df\n",
    "# remove all the word that appear in more than 50%\n",
    "vect3 = CountVectorizer(max_df=0.50)\n",
    "Xtrain3 = vect3.fit_transform(Xtrain)\n",
    "print(Xtrain3.shape)\n",
    "\n",
    "# onle keep those word in dataframe min 2 times\n",
    "vect4 = CountVectorizer(min_df=2)\n",
    "Xtrain4 = vect4.fit_transform(Xtrain)\n",
    "Xtrain4\n"
   ]
  },
  {
   "cell_type": "code",
   "execution_count": 39,
   "metadata": {},
   "outputs": [
    {
     "data": {
      "text/plain": [
       "<3900x6486 sparse matrix of type '<class 'numpy.int64'>'\n",
       "\twith 36466 stored elements in Compressed Sparse Row format>"
      ]
     },
     "execution_count": 39,
     "metadata": {},
     "output_type": "execute_result"
    }
   ],
   "source": [
    "#now it's time to apply all the terms at a once\n",
    "#for training data\n",
    "vect_combined = CountVectorizer(stop_words='english', ngram_range=(1,2), min_df=2, max_df=0.5)\n",
    "XtrainC = vect_combined.fit_transform(Xtrain)\n",
    "XtrainC"
   ]
  },
  {
   "cell_type": "code",
   "execution_count": 40,
   "metadata": {},
   "outputs": [],
   "source": [
    "# for Testing data\n",
    "XtestC = vect_combined.transform(Xtest)"
   ]
  },
  {
   "cell_type": "code",
   "execution_count": 41,
   "metadata": {},
   "outputs": [
    {
     "data": {
      "text/plain": [
       "MultinomialNB()"
      ]
     },
     "execution_count": 41,
     "metadata": {},
     "output_type": "execute_result"
    }
   ],
   "source": [
    "#now applying MultinomialNB algoritham\n",
    "nb = MultinomialNB()\n",
    "nb.fit(XtrainC, Ytrain)"
   ]
  },
  {
   "cell_type": "code",
   "execution_count": 42,
   "metadata": {},
   "outputs": [],
   "source": [
    "YpredictC = nb.predict(XtestC)"
   ]
  },
  {
   "cell_type": "code",
   "execution_count": 48,
   "metadata": {},
   "outputs": [
    {
     "data": {
      "text/plain": [
       "0.9874401913875598"
      ]
     },
     "execution_count": 48,
     "metadata": {},
     "output_type": "execute_result"
    }
   ],
   "source": [
    "# our Old score is 0.9856459330143541\n",
    "metrics.accuracy_score(Ytest, YpredictC)\n",
    "\n"
   ]
  },
  {
   "cell_type": "code",
   "execution_count": null,
   "metadata": {},
   "outputs": [],
   "source": [
    "# our Old score is 0.9856459330143541\n",
    "# our new score is 0.9874401913875598\n",
    "# little Improvement"
   ]
  }
 ],
 "metadata": {
  "kernelspec": {
   "display_name": "Python 3",
   "language": "python",
   "name": "python3"
  },
  "language_info": {
   "codemirror_mode": {
    "name": "ipython",
    "version": 3
   },
   "file_extension": ".py",
   "mimetype": "text/x-python",
   "name": "python",
   "nbconvert_exporter": "python",
   "pygments_lexer": "ipython3",
   "version": "3.8.5"
  }
 },
 "nbformat": 4,
 "nbformat_minor": 4
}
